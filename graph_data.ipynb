{
 "cells": [
  {
   "cell_type": "code",
   "execution_count": 1,
   "metadata": {},
   "outputs": [],
   "source": [
    "import findspark; findspark.init()\n",
    "from os import environ\n",
    "from aws_review_graph.commons import utils\n",
    "from aws_review_graph.reviews import etl\n",
    "from pyspark.sql import functions as F\n",
    "from pyspark.sql.window import Window\n",
    "import numpy as np\n",
    "import pyarrow as pa\n",
    "import pyarrow.parquet as pq"
   ]
  },
  {
   "cell_type": "code",
   "execution_count": null,
   "metadata": {},
   "outputs": [],
   "source": [
    "environ['DEBUG'] = \"1\"\n",
    "environ['PYSPARK_PYTHON']=f'.tox/dev/bin/python'\n",
    "NUMBER_OF_BIN=10\n",
    "SEED=1\n",
    "BOOK_DISTINCT = 112278\n",
    "MUSIC_DISTINCT = 59092"
   ]
  },
  {
   "cell_type": "code",
   "execution_count": 2,
   "metadata": {},
   "outputs": [
    {
     "name": "stdout",
     "output_type": "stream",
     "text": [
      "getting spark session\n"
     ]
    },
    {
     "name": "stderr",
     "output_type": "stream",
     "text": [
      "22/01/06 18:43:43 WARN Utils: Your hostname, oasis resolves to a loopback address: 127.0.1.1; using 192.168.86.47 instead (on interface wlp0s20f3)\n",
      "22/01/06 18:43:43 WARN Utils: Set SPARK_LOCAL_IP if you need to bind to another address\n",
      "WARNING: An illegal reflective access operation has occurred\n",
      "WARNING: Illegal reflective access by org.apache.spark.unsafe.Platform (file:/opt/spark/jars/spark-unsafe_2.12-3.0.1.jar) to constructor java.nio.DirectByteBuffer(long,int)\n",
      "WARNING: Please consider reporting this to the maintainers of org.apache.spark.unsafe.Platform\n",
      "WARNING: Use --illegal-access=warn to enable warnings of further illegal reflective access operations\n",
      "WARNING: All illegal access operations will be denied in a future release\n",
      "22/01/06 18:43:43 WARN NativeCodeLoader: Unable to load native-hadoop library for your platform... using builtin-java classes where applicable\n",
      "Using Spark's default log4j profile: org/apache/spark/log4j-defaults.properties\n",
      "Setting default log level to \"WARN\".\n",
      "To adjust logging level use sc.setLogLevel(newLevel). For SparkR, use setLogLevel(newLevel).\n"
     ]
    },
    {
     "name": "stdout",
     "output_type": "stream",
     "text": [
      "spark session created\n"
     ]
    }
   ],
   "source": [
    "session, logger, settings= utils.start_spark()\n"
   ]
  },
  {
   "cell_type": "code",
   "execution_count": 7,
   "metadata": {},
   "outputs": [],
   "source": [
    "w = Window.partitionBy('product_id')\n",
    "\n",
    "books_df = (\n",
    "        session.read.parquet(\"./data/books\")\n",
    "        .filter(F.col(\"star_rating\") > 3)\n",
    "        .select(\"customer_id\", \"product_id\").drop_duplicates()\n",
    "        .withColumn('users', F.approx_count_distinct('customer_id').over(w))\n",
    "        .withColumnRenamed(\n",
    "            'product_id',\n",
    "            'book_product_id'\n",
    "        ).filter('users >=100')\n",
    "    )\n",
    "music_df = (\n",
    "    session.read.parquet(\"./data/music\")\n",
    "        .filter(F.col(\"star_rating\") > 3)\n",
    "        .select(\"customer_id\", F.col(\"product_id\")).drop_duplicates()\n",
    "            .withColumn('users', F.approx_count_distinct('customer_id').over(w))\n",
    "            .withColumnRenamed(\n",
    "                'product_id',\n",
    "                'music_product_id'\n",
    "            ).filter('users >=80')\n",
    "    )\n",
    "\n",
    "# dense_reviews = etl.dense_cross_domains_reviews(books_df, music_df, 10, 10)\n",
    "# dense_reviews.coalesce(5).write.parquet(\n",
    "#         \"./data/dense_reviews\", mode=\"overwrite\"\n",
    "# )\n",
    "dense_reviews = session.read.parquet(\"./data/dense_reviews\")"
   ]
  },
  {
   "cell_type": "code",
   "execution_count": 8,
   "metadata": {},
   "outputs": [
    {
     "name": "stdout",
     "output_type": "stream",
     "text": [
      "root\n",
      " |-- customer_id: string (nullable = true)\n",
      " |-- book_ids: array (nullable = true)\n",
      " |    |-- element: string (containsNull = true)\n",
      " |-- music_ids: array (nullable = true)\n",
      " |    |-- element: string (containsNull = true)\n",
      " |-- books_count: integer (nullable = true)\n",
      " |-- music_count: integer (nullable = true)\n",
      "\n",
      "+-----+-----------+-----------+-------------+-------------+\n",
      "|users|total_books|total_music|distinc_books|distinc_music|\n",
      "+-----+-----------+-----------+-------------+-------------+\n",
      "|  437|       8515|       7405|         4565|         3808|\n",
      "+-----+-----------+-----------+-------------+-------------+\n",
      "\n"
     ]
    }
   ],
   "source": [
    "dense_reviews.printSchema()\n",
    "data_agg = etl.review_agg(dense_reviews)\n",
    "data_agg.show()\n",
    "\n",
    "# music_df.printSchema()\n",
    "# print(43522/(1369*39975)*100)"
   ]
  },
  {
   "cell_type": "code",
   "execution_count": 6,
   "metadata": {},
   "outputs": [
    {
     "name": "stdout",
     "output_type": "stream",
     "text": [
      "+-----------+-----------------+-----------+-----------+--------------------+--------------------+--------------------+--------------------+---+\n",
      "|customer_id|customer_id_index|books_count|music_count|            book_ids|     book_id_indexes|           music_ids|    music_id_indexes|bin|\n",
      "+-----------+-----------------+-----------+-----------+--------------------+--------------------+--------------------+--------------------+---+\n",
      "|   31808048|              100|         45|         11|[0307269981, 0307...|[661, 1555, 3652,...|[B0000C6E4D, B000...|[1678, 2008, 1682...|  6|\n",
      "|   52216152|              372|         14|         10|[0553804723, 0875...|[2853, 234, 67, 3...|[B001NESPHC, B000...|[1783, 916, 2887,...|  5|\n",
      "|   10952233|                6|         15|         12|[1607740036, 0064...|[901, 2789, 1716,...|[B00BIVN82M, B00M...|[3732, 3729, 1965...|  5|\n",
      "|   24638959|               73|         15|         13|[0312536631, 0765...|[3006, 4343, 2346...|[B00008H2LB, B00E...|[3532, 3703, 2495...|  2|\n",
      "|   49944666|              267|         40|         26|[0345428455, 0441...|[1852, 539, 1598,...|[B000IZJZIK, B000...|[2745, 1809, 2716...|  4|\n",
      "|   51812938|              352|         39|         20|[0385492081, 0891...|[2563, 3275, 458,...|[B00005ASHM, B000...|[1417, 610, 647, ...|  4|\n",
      "|   49629038|              257|         13|         12|[0439139597, 0345...|[2542, 1768, 2557...|[B00002EITV, B000...|[1239, 1072, 1141...|  2|\n",
      "|   52297858|              378|         29|         31|[0679781587, 0142...|[3101, 582, 3755,...|[B00028HBIY, B000...|[538, 1758, 1657,...|  6|\n",
      "|   16372661|               33|         15|         27|[0679728759, 0061...|[3950, 3043, 649,...|[B00SWBLS3C, B003...|[3282, 3312, 3704...|  9|\n",
      "|   28412708|               90|         42|         10|[0679781587, 0764...|[843, 3783, 3601,...|[B000FS9MYC, B004...|[3101, 2531, 2423...|  0|\n",
      "|   50237851|              277|         14|         23|[0679767800, 0440...|[2135, 1591, 2665...|[B000002KCS, B000...|[2461, 2491, 763,...|  1|\n",
      "|   14265632|               23|         27|         12|[0895949903, 0345...|[3993, 3878, 4213...|[B0098460O4, B00M...|[3173, 3529, 3329...|  0|\n",
      "|   41326302|              173|         14|         13|[0545265355, 0525...|[2201, 1338, 2239...|[B00192IV0O, B003...|[2818, 3007, 3232...|  0|\n",
      "|   50631983|              296|         17|         11|[0316330116, 0441...|[1845, 1068, 1998...|[B0000057C5, B000...|[161, 153, 117, 1...|  7|\n",
      "|   13024249|               16|         25|         13|[0440243696, 0440...|[2186, 3667, 3449...|[B0093U03L4, B00O...|[3739, 3721, 3736...|  0|\n",
      "|   40924815|              171|         10|         19|[080509668X, 1594...|[825, 3191, 4295,...|[B00BQ1DBUS, B00D...|[3499, 3188, 3494...|  7|\n",
      "|   52556889|              391|         21|         23|[0345518519, 0316...|[763, 4531, 952, ...|[B0002X591K, B000...|[574, 1663, 1678,...|  4|\n",
      "|   14570006|               26|         11|         20|[0385349173, 0805...|[3191, 356, 1050,...|[B000BFH2QY, B008...|[1699, 960, 1373,...|  4|\n",
      "|   17447640|               41|         32|         29|[0142408816, 0810...|[153, 3065, 206, ...|[B000001DYA, B000...|[2114, 3073, 612,...|  7|\n",
      "|   29058810|               94|         10|         29|[0671510053, 0143...|[2632, 3275, 2636...|[B00001OH7P, B000...|[610, 2106, 306, ...|  2|\n",
      "+-----------+-----------------+-----------+-----------+--------------------+--------------------+--------------------+--------------------+---+\n",
      "only showing top 20 rows\n",
      "\n"
     ]
    }
   ],
   "source": [
    "# indexed_and_binned_reviews = etl.binned_indexed_user_reviews(dense_reviews)\n",
    "# indexed_and_binned_reviews.coalesce(1).write.parquet(\n",
    "#         \"./data/indexed_and_binned_reviews\", mode=\"overwrite\"\n",
    "# )\n",
    "indexed_and_binned_reviews = session.read.parquet(\"./data/indexed_and_binned_reviews\")\n",
    "indexed_and_binned_reviews.show()"
   ]
  },
  {
   "cell_type": "code",
   "execution_count": null,
   "metadata": {},
   "outputs": [],
   "source": [
    "# music_graph = etl.get_item_graph(indexed_and_binned_reviews, 'music_id_indexes')\n",
    "# music_graph.coalesce(1).write.parquet(\n",
    "#         \"./data/music_graph\", mode=\"overwrite\"\n",
    "# )\n",
    "music_graph = session.read.parquet(\"./data/music_graph\")\n",
    "music_graph.show()\n",
    "music_graph.select('neighbors_size').summary().show()"
   ]
  },
  {
   "cell_type": "code",
   "execution_count": 10,
   "metadata": {},
   "outputs": [
    {
     "name": "stdout",
     "output_type": "stream",
     "text": [
      "root\n",
      " |-- customer_id: string (nullable = true)\n",
      " |-- customer_id_index: integer (nullable = true)\n",
      " |-- book_id_indexes: array (nullable = true)\n",
      " |    |-- element: integer (containsNull = true)\n",
      " |-- negative_books: array (nullable = true)\n",
      " |    |-- element: long (containsNull = true)\n",
      " |-- music_id_indexes: array (nullable = true)\n",
      " |    |-- element: integer (containsNull = true)\n",
      " |-- negative_music: array (nullable = true)\n",
      " |    |-- element: long (containsNull = true)\n",
      " |-- bin: integer (nullable = true)\n",
      "\n"
     ]
    },
    {
     "name": "stderr",
     "output_type": "stream",
     "text": [
      "                                                                                \r"
     ]
    },
    {
     "name": "stdout",
     "output_type": "stream",
     "text": [
      "+-----------+-----------------+--------------------+--------------------+--------------------+--------------------+---+\n",
      "|customer_id|customer_id_index|     book_id_indexes|      negative_books|    music_id_indexes|      negative_music|bin|\n",
      "+-----------+-----------------+--------------------+--------------------+--------------------+--------------------+---+\n",
      "|   31808048|              100|[661, 1555, 3652,...|[3492, 1874, 2943...|[1678, 2008, 1682...|[2441, 1294, 3285...|  6|\n",
      "|   52216152|              372|[2853, 234, 67, 3...|[1380, 2846, 837,...|[1783, 916, 2887,...|[1185, 600, 1044,...|  5|\n",
      "|   10952233|                6|[901, 2789, 1716,...|[3967, 2273, 996,...|[3732, 3729, 1965...|[3214, 1151, 3063...|  5|\n",
      "|   24638959|               73|[3006, 4343, 2346...|[3750, 41, 822, 3...|[3532, 3703, 2495...|[1693, 3695, 1222...|  2|\n",
      "|   49944666|              267|[1852, 539, 1598,...|[2307, 800, 1254,...|[2745, 1809, 2716...|[2999, 3612, 1123...|  4|\n",
      "|   51812938|              352|[2563, 3275, 458,...|[249, 4195, 3390,...|[1417, 610, 647, ...|[645, 3794, 2856,...|  4|\n",
      "|   49629038|              257|[2542, 1768, 2557...|[3455, 4018, 1288...|[1239, 1072, 1141...|[2904, 2727, 218,...|  2|\n",
      "|   52297858|              378|[3101, 582, 3755,...|[253, 341, 393, 3...|[538, 1758, 1657,...|[846, 2123, 2587,...|  6|\n",
      "|   16372661|               33|[3950, 3043, 649,...|[3735, 2715, 1700...|[3282, 3312, 3704...|[509, 3076, 746, ...|  9|\n",
      "|   28412708|               90|[843, 3783, 3601,...|[3069, 4379, 2925...|[3101, 2531, 2423...|[1070, 1392, 2188...|  0|\n",
      "|   50237851|              277|[2135, 1591, 2665...|[41, 640, 1068, 2...|[2461, 2491, 763,...|[3354, 931, 2903,...|  1|\n",
      "|   14265632|               23|[3993, 3878, 4213...|[1554, 2560, 2265...|[3173, 3529, 3329...|[462, 385, 1999, ...|  0|\n",
      "|   41326302|              173|[2201, 1338, 2239...|[2523, 937, 322, ...|[2818, 3007, 3232...|[3541, 913, 3568,...|  0|\n",
      "|   50631983|              296|[1845, 1068, 1998...|[4458, 340, 2572,...|[161, 153, 117, 1...|[538, 2641, 1000,...|  7|\n",
      "|   13024249|               16|[2186, 3667, 3449...|[1531, 1560, 680,...|[3739, 3721, 3736...|[1644, 1391, 2656...|  0|\n",
      "|   40924815|              171|[825, 3191, 4295,...|[4176, 2592, 1705...|[3499, 3188, 3494...|[3678, 1018, 732,...|  7|\n",
      "|   52556889|              391|[763, 4531, 952, ...|[702, 3800, 615, ...|[574, 1663, 1678,...|[1607, 2707, 3028...|  4|\n",
      "|   14570006|               26|[3191, 356, 1050,...|[1136, 2062, 551,...|[1699, 960, 1373,...|[2671, 2617, 3288...|  4|\n",
      "|   17447640|               41|[153, 3065, 206, ...|[1087, 2094, 4217...|[2114, 3073, 612,...|[2004, 772, 1155,...|  7|\n",
      "|   29058810|               94|[2632, 3275, 2636...|[2040, 263, 3857,...|[610, 2106, 306, ...|[1316, 2991, 245,...|  2|\n",
      "+-----------+-----------------+--------------------+--------------------+--------------------+--------------------+---+\n",
      "only showing top 20 rows\n",
      "\n"
     ]
    }
   ],
   "source": [
    "# positive_negative_reviews = etl.positive_negative_reviews(session, indexed_and_binned_reviews, book_distinct=4565, music_distinct=3808)\n",
    "# positive_negative_reviews.coalesce(1).write.parquet(\n",
    "#         \"./data/positive_negative_reviews\", mode=\"overwrite\"\n",
    "# )\n",
    "positive_negative_reviews = session.read.parquet(\"./data/positive_negative_reviews\")\n",
    "positive_negative_reviews.show()"
   ]
  },
  {
   "cell_type": "code",
   "execution_count": 4,
   "metadata": {},
   "outputs": [
    {
     "name": "stdout",
     "output_type": "stream",
     "text": [
      "+----+---+--------+--------+-----+\n",
      "|user|bin|positive|negative|split|\n",
      "+----+---+--------+--------+-----+\n",
      "| 100|  6|     577|    3090|    1|\n",
      "| 100|  6|    1523|    3291|    8|\n",
      "| 100|  6|    1646|    3460|    8|\n",
      "| 100|  6|    4281|    4132|    9|\n",
      "| 100|  6|    1668|     985|    0|\n",
      "| 100|  6|     530|    4500|    3|\n",
      "| 100|  6|    2651|    4169|    6|\n",
      "| 100|  6|    1152|     128|    4|\n",
      "| 100|  6|    1152|     631|    4|\n",
      "| 100|  6|      57|     177|    3|\n",
      "|  73|  2|    3065|    1367|    2|\n",
      "|  73|  2|    1129|    4067|    2|\n",
      "| 267|  4|     539|    2941|    5|\n",
      "| 267|  4|    2340|    2941|    8|\n",
      "| 267|  4|    2864|    1030|    2|\n",
      "| 267|  4|    2785|    1226|    0|\n",
      "| 267|  4|    4434|    1030|    5|\n",
      "| 267|  4|     748|    3048|    1|\n",
      "| 267|  4|    3240|    3969|    4|\n",
      "| 267|  4|    2341|     942|    0|\n",
      "+----+---+--------+--------+-----+\n",
      "only showing top 20 rows\n",
      "\n"
     ]
    }
   ],
   "source": [
    "# pn_explode = etl.user_positive_negative_explode(positive_negative_reviews, 'customer_id_index', 'book_id_indexes', 'negative_books')\n",
    "# pn_explode.coalesce(1).write.parquet(\n",
    "#         \"./data/user_positive_negative_explode\", mode=\"overwrite\"\n",
    "# )\n",
    "pn_explode = session.read.parquet(\"./data/user_positive_negative_explode\")\n",
    "pn_explode.show()\n"
   ]
  },
  {
   "cell_type": "code",
   "execution_count": 12,
   "metadata": {},
   "outputs": [
    {
     "name": "stdout",
     "output_type": "stream",
     "text": [
      "+----+---+--------+--------+-----+--------------------+--------------------+\n",
      "|user|bin|positive|negative|split|    music_id_indexes|      negative_music|\n",
      "+----+---+--------+--------+-----+--------------------+--------------------+\n",
      "| 100|  6|     577|    3090|    1|[1678, 2008, 1682...|[2441, 1294, 3285...|\n",
      "| 100|  6|    1523|    3291|    8|[1678, 2008, 1682...|[2441, 1294, 3285...|\n",
      "| 100|  6|    1646|    3460|    8|[1678, 2008, 1682...|[2441, 1294, 3285...|\n",
      "| 100|  6|    4281|    4132|    9|[1678, 2008, 1682...|[2441, 1294, 3285...|\n",
      "| 100|  6|    1668|     985|    0|[1678, 2008, 1682...|[2441, 1294, 3285...|\n",
      "| 100|  6|     530|    4500|    3|[1678, 2008, 1682...|[2441, 1294, 3285...|\n",
      "| 100|  6|    2651|    4169|    6|[1678, 2008, 1682...|[2441, 1294, 3285...|\n",
      "| 100|  6|    1152|     128|    4|[1678, 2008, 1682...|[2441, 1294, 3285...|\n",
      "| 100|  6|    1152|     631|    4|[1678, 2008, 1682...|[2441, 1294, 3285...|\n",
      "| 100|  6|      57|     177|    3|[1678, 2008, 1682...|[2441, 1294, 3285...|\n",
      "|  73|  2|    3065|    1367|    2|[3532, 3703, 2495...|[1693, 3695, 1222...|\n",
      "|  73|  2|    1129|    4067|    2|[3532, 3703, 2495...|[1693, 3695, 1222...|\n",
      "| 267|  4|     539|    2941|    5|[2745, 1809, 2716...|[2999, 3612, 1123...|\n",
      "| 267|  4|    2340|    2941|    8|[2745, 1809, 2716...|[2999, 3612, 1123...|\n",
      "| 267|  4|    2864|    1030|    2|[2745, 1809, 2716...|[2999, 3612, 1123...|\n",
      "| 267|  4|    2785|    1226|    0|[2745, 1809, 2716...|[2999, 3612, 1123...|\n",
      "| 267|  4|    4434|    1030|    5|[2745, 1809, 2716...|[2999, 3612, 1123...|\n",
      "| 267|  4|     748|    3048|    1|[2745, 1809, 2716...|[2999, 3612, 1123...|\n",
      "| 267|  4|    3240|    3969|    4|[2745, 1809, 2716...|[2999, 3612, 1123...|\n",
      "| 267|  4|    2341|     942|    0|[2745, 1809, 2716...|[2999, 3612, 1123...|\n",
      "+----+---+--------+--------+-----+--------------------+--------------------+\n",
      "only showing top 20 rows\n",
      "\n"
     ]
    },
    {
     "name": "stderr",
     "output_type": "stream",
     "text": [
      "                                                                                \r"
     ]
    }
   ],
   "source": [
    "dataset_bin_split = pn_explode.join(\n",
    "    positive_negative_reviews.select(F.col('customer_id_index').alias('user'),'music_id_indexes','negative_music'),\n",
    "    on=['user'])\n",
    "dataset_bin_split.show()\n",
    "dataset_bin_split.coalesce(1).write.parquet(\n",
    "        \"./data/dataset_bin_split\", mode=\"overwrite\"\n",
    ")"
   ]
  },
  {
   "cell_type": "code",
   "execution_count": null,
   "metadata": {},
   "outputs": [],
   "source": [
    "df = pq.read_table(\"./data/dataset_bin_split\").to_pandas()\n",
    "validate = df.loc[df['bin']==0]\n",
    "train_test_df = df.loc[df['bin']>0]\n",
    "# train_test_df['split'] = np.random.randint(10, size=len(train_test_df))\n",
    "train_test_df.count()\n",
    "# train_test_pq = pa.Table.from_pandas(train_test_df, preserve_index=False)\n",
    "# pq.write_table(train_test_pq, './data/train_test_pq.parquet')"
   ]
  }
 ],
 "metadata": {
  "interpreter": {
   "hash": "7ad0079f2135cd10613c44dc136cf687157aec8ddaae1c8cacb128a67f07e4d9"
  },
  "kernelspec": {
   "display_name": "Python 3.8.3 64-bit ('dev': venv)",
   "language": "python",
   "name": "python3"
  },
  "language_info": {
   "codemirror_mode": {
    "name": "ipython",
    "version": 3
   },
   "file_extension": ".py",
   "mimetype": "text/x-python",
   "name": "python",
   "nbconvert_exporter": "python",
   "pygments_lexer": "ipython3",
   "version": "3.8.3"
  },
  "orig_nbformat": 4
 },
 "nbformat": 4,
 "nbformat_minor": 2
}
